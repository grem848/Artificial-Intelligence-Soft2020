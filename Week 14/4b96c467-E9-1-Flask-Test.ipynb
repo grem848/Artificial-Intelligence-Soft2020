{
 "cells": [
  {
   "cell_type": "markdown",
   "metadata": {},
   "source": [
    "# Flask Test"
   ]
  },
  {
   "cell_type": "markdown",
   "metadata": {},
   "source": [
    "## Technologies"
   ]
  },
  {
   "cell_type": "markdown",
   "metadata": {},
   "source": [
    "### WSGI \n",
    "Web Server Gateway Interface. <br>\n",
    "A specification that describes how a web server communicates with web applications, and how web applications can be chained together to process one request.\n",
    "Implemented for deployment of applications on a web server."
   ]
  },
  {
   "cell_type": "markdown",
   "metadata": {},
   "source": [
    "### Flask\n",
    "A popular and lightweight <b>WSGI</b> web application framework. <br>\n",
    "Appropriate for developing and deploying Python web applications on a web server."
   ]
  },
  {
   "cell_type": "code",
   "execution_count": 5,
   "metadata": {},
   "outputs": [
    {
     "name": "stdout",
     "output_type": "stream",
     "text": [
      "Requirement already up-to-date: pip in c:\\users\\andreas heick laptop\\anaconda3\\lib\\site-packages (20.0.2)\n"
     ]
    }
   ],
   "source": [
    "# upgrade pip\n",
    "!pip install --upgrade pip"
   ]
  },
  {
   "cell_type": "code",
   "execution_count": 4,
   "metadata": {},
   "outputs": [
    {
     "name": "stdout",
     "output_type": "stream",
     "text": [
      "Requirement already up-to-date: Flask in c:\\users\\andreas heick laptop\\anaconda3\\lib\\site-packages (1.1.1)\n",
      "Requirement already satisfied, skipping upgrade: Jinja2>=2.10.1 in c:\\users\\andreas heick laptop\\anaconda3\\lib\\site-packages (from Flask) (2.11.1)\n",
      "Requirement already satisfied, skipping upgrade: click>=5.1 in c:\\users\\andreas heick laptop\\anaconda3\\lib\\site-packages (from Flask) (7.0)\n",
      "Requirement already satisfied, skipping upgrade: Werkzeug>=0.15 in c:\\users\\andreas heick laptop\\anaconda3\\lib\\site-packages (from Flask) (0.16.1)\n",
      "Requirement already satisfied, skipping upgrade: itsdangerous>=0.24 in c:\\users\\andreas heick laptop\\anaconda3\\lib\\site-packages (from Flask) (1.1.0)\n",
      "Requirement already satisfied, skipping upgrade: MarkupSafe>=0.23 in c:\\users\\andreas heick laptop\\anaconda3\\lib\\site-packages (from Jinja2>=2.10.1->Flask) (1.1.1)\n",
      "Collecting wtforms\n",
      "  Downloading WTForms-2.2.1-py2.py3-none-any.whl (166 kB)\n",
      "Installing collected packages: wtforms\n",
      "Successfully installed wtforms-2.2.1\n"
     ]
    }
   ],
   "source": [
    "# To install/update Flask\n",
    "!pip install -U Flask\n",
    "!pip install wtforms"
   ]
  },
  {
   "cell_type": "markdown",
   "metadata": {},
   "source": [
    "#### Flask Example 1"
   ]
  },
  {
   "cell_type": "code",
   "execution_count": 1,
   "metadata": {},
   "outputs": [
    {
     "name": "stdout",
     "output_type": "stream",
     "text": [
      "Overwriting app.py\n"
     ]
    }
   ],
   "source": [
    "%%writefile app.py\n",
    "# define app that will be deployed on a server and save it in a file\n",
    "\n",
    "# import class Flask\n",
    "from flask import Flask\n",
    "\n",
    "# create an instance (our app)\n",
    "app = Flask(__name__)\n",
    "\n",
    "# by default, Flask server runs on http://127.0.0.1:5000\n",
    "# we define relative URL on the server, where our app will be hosted - binds it to the URL\n",
    "@app.route('/app')\n",
    "def hello():\n",
    "    return 'Hello, Flask!'\n",
    "\n",
    "if __name__ == '__main__' :\n",
    "    app.run(port=5000,debug=True);\n",
    "    \n"
   ]
  },
  {
   "cell_type": "code",
   "execution_count": null,
   "metadata": {},
   "outputs": [],
   "source": [
    "# run my app on the server\n",
    "!python app.py"
   ]
  },
  {
   "cell_type": "markdown",
   "metadata": {},
   "source": [
    "#### Flask Example 2 "
   ]
  },
  {
   "cell_type": "markdown",
   "metadata": {},
   "source": [
    "This example demonstrates use of templates for the web pages, as well as processing of HTTP requests and responses"
   ]
  },
  {
   "cell_type": "code",
   "execution_count": 1,
   "metadata": {},
   "outputs": [
    {
     "name": "stdout",
     "output_type": "stream",
     "text": [
      "Overwriting formapp.py\n"
     ]
    }
   ],
   "source": [
    "%%writefile formapp.py\n",
    "# define app that will display submit form and will return personal greeting\n",
    "from flask import Flask, render_template, request\n",
    "myapp = Flask(__name__)\n",
    "\n",
    "@myapp.route('/', methods=['GET', 'POST'])\n",
    "def index():\n",
    "    name = None\n",
    "    if request.method == 'POST' and 'name' in request.form:\n",
    "        name = request.form['name']\n",
    "    return render_template('index.html', name=name)\n",
    "\n",
    "if __name__ == '__main__':\n",
    "    myapp.run(port=5000, debug=True)"
   ]
  },
  {
   "cell_type": "code",
   "execution_count": null,
   "metadata": {},
   "outputs": [],
   "source": [
    "!python formapp.py"
   ]
  },
  {
   "cell_type": "code",
   "execution_count": null,
   "metadata": {},
   "outputs": [],
   "source": []
  }
 ],
 "metadata": {
  "kernelspec": {
   "display_name": "Python 3",
   "language": "python",
   "name": "python3"
  },
  "language_info": {
   "codemirror_mode": {
    "name": "ipython",
    "version": 3
   },
   "file_extension": ".py",
   "mimetype": "text/x-python",
   "name": "python",
   "nbconvert_exporter": "python",
   "pygments_lexer": "ipython3",
   "version": "3.7.6"
  }
 },
 "nbformat": 4,
 "nbformat_minor": 2
}
