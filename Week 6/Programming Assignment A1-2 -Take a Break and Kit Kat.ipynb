{
 "cells": [
  {
   "cell_type": "markdown",
   "metadata": {},
   "source": [
    "# Programming Assignment A1-2: Take a Break and Kit Kat\n",
    "\n",
    "### The objectives are\n",
    "• practicing Python loop statements  \n",
    "\n",
    "• counting time with time library  \n",
    "\n",
    "• integrating resources from the web with webbrowser library  \n",
    "\n",
    "\n",
    "The **task** is to create a Python program to remind you that restless work with your computer is not\n",
    "good for your health.  \n",
    "The program should start playing music or video from the web once per hour.\n",
    "\n",
    "#### Recommended\n",
    "\n",
    "First, try to analyse the problem and design the solution by asking yourself\n",
    "\n",
    "• what, actually, would you like to be coded?\n",
    "\n",
    "Second, formulate which knowledge about Python, needed for this solution, you already have and\n",
    "which you are still missing\n",
    "\n",
    "• search Google for names of programming objects you want to learn more about\n",
    "\n",
    "Next, get a hint from the instructor's solution provided in a notebook from the Additional Resources.  \n",
    "Finally, create your own alternative solution and upload it in Peergrade. If it is correct, it will bring you\n",
    "one credit."
   ]
  },
  {
   "cell_type": "code",
   "execution_count": null,
   "metadata": {},
   "outputs": [
    {
     "name": "stdout",
     "output_type": "stream",
     "text": [
      "Time for a break! Time is 21:17\n"
     ]
    }
   ],
   "source": [
    "# import library working with time\n",
    "# import library for windows sounds\n",
    "# import library for datetime\n",
    "# import library for webbrowser\n",
    "import time\n",
    "import winsound\n",
    "import datetime\n",
    "import webbrowser\n",
    "\n",
    "# Note frequencies and winsound beep setup\n",
    "notes = {'C':0, 'D':2, 'E':4, 'F':5, 'G':7, 'A':9, 'B':11}\n",
    "def play_note(note, duration=400):\n",
    "    winsound.Beep(int(256*(2**(notes[note]/12))), duration)\n",
    "\n",
    "\n",
    "while True:\n",
    "    # get current time\n",
    "    now = datetime.datetime.now()\n",
    "    \n",
    "    # every hour do below\n",
    "    if (now.minute == 0):        \n",
    "        print(\"Time for a break! Time is \" + str(time.strftime(\"%H:%M\")))\n",
    "        \n",
    "        # play windows sound asyncronous\n",
    "        winsound.PlaySound(\"SystemHand\", winsound.SND_ASYNC)\n",
    "        \n",
    "        # Ode to joy notes and for loop that plays it\n",
    "        song = \"E E F G G F E D C C D E E D D\"\n",
    "        for note in song.split():\n",
    "            play_note(note)\n",
    "            \n",
    "        # play windows sound asyncronous\n",
    "        winsound.PlaySound(\"SystemExit\", winsound.SND_ASYNC)\n",
    "        \n",
    "        # open relaxing music\n",
    "        webbrowser.open_new_tab(\"https://www.youtube.com/watch?v=2OEL4P1Rz04\")\n",
    "        \n",
    "        # pause for 60 seconds\n",
    "        time.sleep(60)"
   ]
  }
 ],
 "metadata": {
  "kernelspec": {
   "display_name": "Python 3",
   "language": "python",
   "name": "python3"
  },
  "language_info": {
   "codemirror_mode": {
    "name": "ipython",
    "version": 3
   },
   "file_extension": ".py",
   "mimetype": "text/x-python",
   "name": "python",
   "nbconvert_exporter": "python",
   "pygments_lexer": "ipython3",
   "version": "3.7.6"
  }
 },
 "nbformat": 4,
 "nbformat_minor": 4
}
