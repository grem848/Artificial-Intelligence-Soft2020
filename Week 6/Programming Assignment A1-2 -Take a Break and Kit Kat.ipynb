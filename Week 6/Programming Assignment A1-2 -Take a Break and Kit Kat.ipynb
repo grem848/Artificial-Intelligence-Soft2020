{
 "cells": [
  {
   "cell_type": "code",
   "execution_count": null,
   "metadata": {},
   "outputs": [],
   "source": [
    "# import library working with time\n",
    "# import library for windows sounds\n",
    "import time\n",
    "import winsound\n",
    "import datetime\n",
    "\n",
    "notes = {'C':0, 'D':2, 'E':4, 'F':5, 'G':7, 'A':9, 'B':11}\n",
    "def play_note(note, duration=400):\n",
    "    winsound.Beep(int(256*(2**(notes[note]/12))), duration)\n",
    "\n",
    "\n",
    "while True:\n",
    "    now = datetime.datetime.now()\n",
    "    if (now.minute == 40 or now.minute == 0):\n",
    "        time.sleep(2)\n",
    "        print(time.ctime())\n",
    "        winsound.PlaySound(\"SystemHand\", winsound.SND_ASYNC)\n",
    "        # Ode to joy\n",
    "        song = \"E E F G G F E D C C D E E D D\"\n",
    "        for note in song.split():\n",
    "            play_note(note)\n",
    "        winsound.PlaySound(\"SystemExit\", winsound.SND_ASYNC)\n",
    "    "
   ]
  },
  {
   "cell_type": "code",
   "execution_count": null,
   "metadata": {},
   "outputs": [],
   "source": []
  }
 ],
 "metadata": {
  "kernelspec": {
   "display_name": "Python 3",
   "language": "python",
   "name": "python3"
  }
 },
 "nbformat": 4,
 "nbformat_minor": 4
}
