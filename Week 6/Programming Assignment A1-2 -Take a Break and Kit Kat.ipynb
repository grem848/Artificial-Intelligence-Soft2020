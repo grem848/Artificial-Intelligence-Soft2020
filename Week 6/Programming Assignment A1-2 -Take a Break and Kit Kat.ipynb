{
 "cells": [
  {
   "cell_type": "code",
   "execution_count": 2,
   "metadata": {},
   "outputs": [
    {
     "name": "stdout",
     "output_type": "stream",
     "text": [
      "program started on Wed Feb  5 13:20:35 2020\n"
     ]
    }
   ],
   "source": [
    "# import library working with time\n",
    "# import library communicating with a web browser\n",
    "import time\n",
    "import webbrowser\n",
    "\n",
    "breaks = 3;    # three breaks per day\n",
    "mybreaks = 0;  # breaks taken until now\n",
    "\n",
    "# now\n",
    "print(\"program started on \" + time.ctime())\n",
    "\n",
    "while (mybreaks < breaks):\n",
    "#     time.sleep(1 * 60 * 60)\n",
    "    time.sleep(1)\n",
    "    mybreaks += 1\n",
    "    webbrowser.open(\"https://www.youtube.com/watch?v=...\")"
   ]
  },
  {
   "cell_type": "code",
   "execution_count": null,
   "metadata": {},
   "outputs": [],
   "source": []
  }
 ],
 "metadata": {
  "kernelspec": {
   "display_name": "Python 3",
   "language": "python",
   "name": "python3"
  },
  "language_info": {
   "codemirror_mode": {
    "name": "ipython",
    "version": 3
   },
   "file_extension": ".py",
   "mimetype": "text/x-python",
   "name": "python",
   "nbconvert_exporter": "python",
   "pygments_lexer": "ipython3",
   "version": "3.7.6"
  }
 },
 "nbformat": 4,
 "nbformat_minor": 4
}
