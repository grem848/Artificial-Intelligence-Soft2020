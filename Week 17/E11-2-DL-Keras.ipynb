{
 "cells": [
  {
   "cell_type": "markdown",
   "metadata": {
    "colab_type": "text",
    "id": "rX8mhOLljYeM"
   },
   "source": [
    "."
   ]
  },
  {
   "cell_type": "markdown",
   "metadata": {
    "colab_type": "text",
    "id": "3wF5wszaj97Y"
   },
   "source": [
    "# E11-2 Deep Learning with TensorFlow 2 and Keras"
   ]
  },
  {
   "cell_type": "markdown",
   "metadata": {
    "colab_type": "text",
    "id": "04QgGZc9bF5D"
   },
   "source": [
    "Here the [MNIST dataset](http://yann.lecun.com/exdb/mnist/) classification task is solved by use of [Keras](https://www.tensorflow.org/guide/keras/overview) in the following steps:\n",
    "\n",
    "1. Build a neural network that classifies images.\n",
    "2. Train this neural network.\n",
    "3. And, finally, evaluate the accuracy of the model."
   ]
  },
  {
   "cell_type": "markdown",
   "metadata": {
    "colab_type": "text",
    "id": "nnrWf3PCEzXL"
   },
   "source": [
    "The solution require TensorFlow 2 and Keras installed in your environment.\n",
    "See the [install guide](https://www.tensorflow.org/install) for details."
   ]
  },
  {
   "cell_type": "code",
   "execution_count": 1,
   "metadata": {
    "colab": {},
    "colab_type": "code",
    "id": "0trJmd6DjqBZ"
   },
   "outputs": [],
   "source": [
    "import tensorflow as tf"
   ]
  },
  {
   "cell_type": "markdown",
   "metadata": {},
   "source": [
    "## Data Sets"
   ]
  },
  {
   "cell_type": "code",
   "execution_count": 2,
   "metadata": {
    "colab": {},
    "colab_type": "code",
    "id": "7FP5258xjs-v"
   },
   "outputs": [],
   "source": [
    "# Load and prepare the datasets with Keras\n",
    "mnist = tf.keras.datasets.mnist\n",
    "(x_train, y_train), (x_test, y_test) = mnist.load_data()"
   ]
  },
  {
   "cell_type": "code",
   "execution_count": 3,
   "metadata": {},
   "outputs": [],
   "source": [
    "# Normalize the integer numbers of grey color to floating-point numbers between 0 and 1\n",
    "x_train, x_test = x_train / 255.0, x_test / 255.0"
   ]
  },
  {
   "cell_type": "markdown",
   "metadata": {},
   "source": [
    "## Build ANN"
   ]
  },
  {
   "cell_type": "markdown",
   "metadata": {
    "colab_type": "text",
    "id": "BPZ68wASog_I"
   },
   "source": [
    "Build the `tf.keras.Sequential` model by stacking layers. <br>\n",
    "We choose one input, one output and two hidden layers."
   ]
  },
  {
   "cell_type": "code",
   "execution_count": 4,
   "metadata": {
    "colab": {},
    "colab_type": "code",
    "id": "h3IKyzTCDNGo"
   },
   "outputs": [],
   "source": [
    "# Create a model\n",
    "model = tf.keras.models.Sequential([\n",
    "  tf.keras.layers.Flatten(input_shape=(28, 28)),\n",
    "  tf.keras.layers.Dense(128, activation='relu'),\n",
    "  tf.keras.layers.Dropout(0.2),\n",
    "  tf.keras.layers.Dense(10)\n",
    "])"
   ]
  },
  {
   "cell_type": "markdown",
   "metadata": {
    "colab_type": "text",
    "id": "l2hiez2eIUz8"
   },
   "source": [
    "For each example the model returns a vector of \"[logits](https://developers.google.com/machine-learning/glossary#logits)\" or \"[log-odds](https://developers.google.com/machine-learning/glossary#log-odds)\" scores, one for each class.<br>\n",
    "\n",
    "__Logit__ is a vector of raw (non-normalized) predictions that a classification model generates, which is ordinarily then passed to a normalization function. If the model is solving a multi-class classification problem, logits typically become an input to the softmax function. The softmax function then generates a vector of (normalized) probabilities with one value for each possible class. __Log-odds__ serve the loss function."
   ]
  },
  {
   "cell_type": "code",
   "execution_count": 5,
   "metadata": {
    "colab": {},
    "colab_type": "code",
    "id": "OeOrNdnkEEcR",
    "scrolled": true
   },
   "outputs": [
    {
     "name": "stdout",
     "output_type": "stream",
     "text": [
      "WARNING:tensorflow:Layer flatten is casting an input tensor from dtype float64 to the layer's dtype of float32, which is new behavior in TensorFlow 2.  The layer has dtype float32 because it's dtype defaults to floatx.\n",
      "\n",
      "If you intended to run this layer in float32, you can safely ignore this warning. If in doubt, this warning is likely only an issue if you are porting a TensorFlow 1.X model to TensorFlow 2.\n",
      "\n",
      "To change all layers to have dtype float64 by default, call `tf.keras.backend.set_floatx('float64')`. To change just this layer, pass dtype='float64' to the layer constructor. If you are the author of this layer, you can disable autocasting by passing autocast=False to the base Layer constructor.\n",
      "\n"
     ]
    },
    {
     "data": {
      "text/plain": [
       "array([[ 0.09867354,  0.03404151, -0.15141569,  0.26407874,  0.36847076,\n",
       "        -0.6124439 ,  0.34010354, -0.07153929,  0.19892278,  0.11951627]],\n",
       "      dtype=float32)"
      ]
     },
     "execution_count": 5,
     "metadata": {},
     "output_type": "execute_result"
    }
   ],
   "source": [
    "predictions = model(x_train[:1]).numpy()\n",
    "predictions"
   ]
  },
  {
   "cell_type": "markdown",
   "metadata": {
    "colab_type": "text",
    "id": "tgjhDQGcIniO"
   },
   "source": [
    "The array predictions shows a logit for each of the ten possible outputs. The `tf.nn.softmax` function converts these logits to \"probabilities\" for each class. "
   ]
  },
  {
   "cell_type": "code",
   "execution_count": 6,
   "metadata": {
    "colab": {},
    "colab_type": "code",
    "id": "zWSRnQ0WI5eq"
   },
   "outputs": [
    {
     "data": {
      "text/plain": [
       "array([[0.10060494, 0.09430831, 0.07834421, 0.11870086, 0.13176218,\n",
       "        0.0494066 , 0.12807697, 0.08485879, 0.11121337, 0.10272383]],\n",
       "      dtype=float32)"
      ]
     },
     "execution_count": 6,
     "metadata": {},
     "output_type": "execute_result"
    }
   ],
   "source": [
    "# Calculate probability\n",
    "tf.nn.softmax(predictions).numpy()"
   ]
  },
  {
   "cell_type": "markdown",
   "metadata": {
    "colab_type": "text",
    "id": "he5u_okAYS4a"
   },
   "source": [
    "Note: It is possible to bake this `tf.nn.softmax` in as the activation function for the last layer of the network. While this can make the model output more directly interpretable, this approach is discouraged as it's impossible to\n",
    "provide an exact and numerically stable loss calculation for all models when using a softmax output. "
   ]
  },
  {
   "cell_type": "markdown",
   "metadata": {
    "colab_type": "text",
    "id": "hQyugpgRIyrA"
   },
   "source": [
    "The `losses.SparseCategoricalCrossentropy` loss takes a vector of logits and a `True` index and returns a scalar loss for each example."
   ]
  },
  {
   "cell_type": "code",
   "execution_count": 7,
   "metadata": {
    "colab": {},
    "colab_type": "code",
    "id": "RSkzdv8MD0tT"
   },
   "outputs": [],
   "source": [
    "#Loss function\n",
    "loss_fn = tf.keras.losses.SparseCategoricalCrossentropy(from_logits=True)"
   ]
  },
  {
   "cell_type": "markdown",
   "metadata": {
    "colab_type": "text",
    "id": "SfR4MsSDU880"
   },
   "source": [
    "This loss is equal to the negative log probability of the true class:\n",
    "It is zero if the model is sure of the correct class.\n",
    "This untrained model gives probabilities close to random (1/10 for each class), so the initial loss should be close to `-tf.log(1/10) ~= 2.3`."
   ]
  },
  {
   "cell_type": "code",
   "execution_count": 8,
   "metadata": {
    "colab": {},
    "colab_type": "code",
    "id": "NJWqEVrrJ7ZB"
   },
   "outputs": [
    {
     "data": {
      "text/plain": [
       "3.0076714"
      ]
     },
     "execution_count": 8,
     "metadata": {},
     "output_type": "execute_result"
    }
   ],
   "source": [
    "loss_fn(y_train[:1], predictions).numpy()"
   ]
  },
  {
   "cell_type": "code",
   "execution_count": 9,
   "metadata": {
    "colab": {},
    "colab_type": "code",
    "id": "9foNKHzTD2Vo"
   },
   "outputs": [],
   "source": [
    "# Build the model\n",
    "model.compile(optimizer='adam', loss=loss_fn, metrics=['accuracy'])"
   ]
  },
  {
   "cell_type": "markdown",
   "metadata": {
    "colab_type": "text",
    "id": "ix4mEL65on-w"
   },
   "source": [
    "The `Model.fit` method adjusts the model parameters to minimize the loss: "
   ]
  },
  {
   "cell_type": "code",
   "execution_count": 10,
   "metadata": {
    "colab": {},
    "colab_type": "code",
    "id": "y7suUbJXVLqP"
   },
   "outputs": [
    {
     "name": "stdout",
     "output_type": "stream",
     "text": [
      "Train on 60000 samples\n",
      "Epoch 1/20\n",
      "60000/60000 [==============================] - 5s 80us/sample - loss: 0.2969 - accuracy: 0.9144\n",
      "Epoch 2/20\n",
      "60000/60000 [==============================] - 4s 64us/sample - loss: 0.1456 - accuracy: 0.9563\n",
      "Epoch 3/20\n",
      "60000/60000 [==============================] - 4s 65us/sample - loss: 0.1093 - accuracy: 0.9676\n",
      "Epoch 4/20\n",
      "60000/60000 [==============================] - 4s 66us/sample - loss: 0.0908 - accuracy: 0.9719\n",
      "Epoch 5/20\n",
      "60000/60000 [==============================] - 4s 74us/sample - loss: 0.0770 - accuracy: 0.9762\n",
      "Epoch 6/20\n",
      "60000/60000 [==============================] - 4s 66us/sample - loss: 0.0681 - accuracy: 0.9782\n",
      "Epoch 7/20\n",
      "60000/60000 [==============================] - 4s 65us/sample - loss: 0.0585 - accuracy: 0.9816\n",
      "Epoch 8/20\n",
      "60000/60000 [==============================] - 4s 74us/sample - loss: 0.0525 - accuracy: 0.9824\n",
      "Epoch 9/20\n",
      "60000/60000 [==============================] - 4s 61us/sample - loss: 0.0501 - accuracy: 0.9834\n",
      "Epoch 10/20\n",
      "60000/60000 [==============================] - 4s 62us/sample - loss: 0.0443 - accuracy: 0.9852\n",
      "Epoch 11/20\n",
      "60000/60000 [==============================] - 4s 64us/sample - loss: 0.0410 - accuracy: 0.9864\n",
      "Epoch 12/20\n",
      "60000/60000 [==============================] - 4s 64us/sample - loss: 0.0403 - accuracy: 0.9870\n",
      "Epoch 13/20\n",
      "60000/60000 [==============================] - 4s 71us/sample - loss: 0.0382 - accuracy: 0.9872\n",
      "Epoch 14/20\n",
      "60000/60000 [==============================] - 4s 70us/sample - loss: 0.0347 - accuracy: 0.9881\n",
      "Epoch 15/20\n",
      "60000/60000 [==============================] - 4s 73us/sample - loss: 0.0322 - accuracy: 0.9891\n",
      "Epoch 16/20\n",
      "60000/60000 [==============================] - 5s 76us/sample - loss: 0.0317 - accuracy: 0.9892\n",
      "Epoch 17/20\n",
      "60000/60000 [==============================] - 5s 75us/sample - loss: 0.0281 - accuracy: 0.9902\n",
      "Epoch 18/20\n",
      "60000/60000 [==============================] - 4s 67us/sample - loss: 0.0282 - accuracy: 0.9905\n",
      "Epoch 19/20\n",
      "60000/60000 [==============================] - 4s 64us/sample - loss: 0.0282 - accuracy: 0.9901\n",
      "Epoch 20/20\n",
      "60000/60000 [==============================] - 4s 67us/sample - loss: 0.0268 - accuracy: 0.9912\n"
     ]
    },
    {
     "data": {
      "text/plain": [
       "<tensorflow.python.keras.callbacks.History at 0x1fe6c1db648>"
      ]
     },
     "execution_count": 10,
     "metadata": {},
     "output_type": "execute_result"
    }
   ],
   "source": [
    "# Train the model\n",
    "model.fit(x_train, y_train, epochs=20)"
   ]
  },
  {
   "cell_type": "markdown",
   "metadata": {
    "colab_type": "text",
    "id": "4mDAAPFqVVgn"
   },
   "source": [
    "The `Model.evaluate` method checks the models performance."
   ]
  },
  {
   "cell_type": "code",
   "execution_count": 11,
   "metadata": {
    "colab": {},
    "colab_type": "code",
    "id": "F7dTAzgHDUh7"
   },
   "outputs": [
    {
     "name": "stdout",
     "output_type": "stream",
     "text": [
      "10000/1 - 1s - loss: 0.0417 - accuracy: 0.9795\n"
     ]
    },
    {
     "data": {
      "text/plain": [
       "[0.0832762308759091, 0.9795]"
      ]
     },
     "execution_count": 11,
     "metadata": {},
     "output_type": "execute_result"
    }
   ],
   "source": [
    "# Validate the accuracy\n",
    "model.evaluate(x_test,  y_test, verbose=2)"
   ]
  },
  {
   "cell_type": "markdown",
   "metadata": {
    "colab_type": "text",
    "id": "T4JfEh7kvx6m"
   },
   "source": [
    "The image classifier is now trained to ~98% accuracy on this dataset."
   ]
  },
  {
   "cell_type": "markdown",
   "metadata": {
    "colab_type": "text",
    "id": "Aj8NrlzlJqDG"
   },
   "source": [
    "If you want your model to return also a probability estimation, you can wrap the trained model, and attach the softmax to it."
   ]
  },
  {
   "cell_type": "code",
   "execution_count": 12,
   "metadata": {
    "colab": {},
    "colab_type": "code",
    "id": "rYb6DrEH0GMv"
   },
   "outputs": [],
   "source": [
    "probability_model = tf.keras.Sequential([model, tf.keras.layers.Softmax()])"
   ]
  },
  {
   "cell_type": "code",
   "execution_count": 13,
   "metadata": {
    "colab": {},
    "colab_type": "code",
    "id": "cnqOZtUp1YR_"
   },
   "outputs": [
    {
     "data": {
      "text/plain": [
       "<tf.Tensor: id=114420, shape=(5, 10), dtype=float32, numpy=\n",
       "array([[1.2165207e-12, 2.3479211e-16, 1.8825739e-09, 1.7524793e-07,\n",
       "        9.8588859e-20, 1.1241811e-13, 6.8676102e-20, 9.9999988e-01,\n",
       "        1.5006782e-13, 6.2442456e-09],\n",
       "       [1.8515031e-14, 1.1937815e-11, 1.0000000e+00, 1.5445101e-13,\n",
       "        1.1596855e-35, 2.4955339e-12, 5.9488070e-17, 3.4441033e-23,\n",
       "        8.2927826e-14, 1.6162895e-30],\n",
       "       [1.1065011e-10, 9.9991632e-01, 5.9667846e-06, 7.3414746e-08,\n",
       "        6.8339090e-10, 2.5935341e-09, 5.0169373e-08, 7.6368655e-05,\n",
       "        1.2373980e-06, 1.7291339e-12],\n",
       "       [1.0000000e+00, 1.2094549e-16, 9.3195291e-09, 2.2709813e-10,\n",
       "        1.6844076e-11, 3.0318198e-08, 4.5868745e-08, 1.2504521e-11,\n",
       "        2.8129617e-13, 3.7610674e-12],\n",
       "       [4.9587808e-12, 1.8679913e-21, 7.3835821e-10, 6.5496649e-15,\n",
       "        9.9996972e-01, 1.4489496e-14, 3.2992067e-11, 6.3828716e-09,\n",
       "        1.0438394e-12, 3.0335141e-05]], dtype=float32)>"
      ]
     },
     "execution_count": 13,
     "metadata": {},
     "output_type": "execute_result"
    }
   ],
   "source": [
    "probability_model(x_test[:5])"
   ]
  },
  {
   "cell_type": "code",
   "execution_count": null,
   "metadata": {},
   "outputs": [],
   "source": []
  },
  {
   "cell_type": "markdown",
   "metadata": {},
   "source": [
    "## Referrence\n",
    "The TensorFlow Authors"
   ]
  }
 ],
 "metadata": {
  "colab": {
   "collapsed_sections": [
    "rX8mhOLljYeM"
   ],
   "name": "beginner.ipynb",
   "private_outputs": true,
   "provenance": [],
   "toc_visible": true
  },
  "kernelspec": {
   "display_name": "Python 3",
   "language": "python",
   "name": "python3"
  },
  "language_info": {
   "codemirror_mode": {
    "name": "ipython",
    "version": 3
   },
   "file_extension": ".py",
   "mimetype": "text/x-python",
   "name": "python",
   "nbconvert_exporter": "python",
   "pygments_lexer": "ipython3",
   "version": "3.7.6"
  }
 },
 "nbformat": 4,
 "nbformat_minor": 1
}
