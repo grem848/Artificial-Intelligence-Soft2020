{
 "cells": [
  {
   "cell_type": "markdown",
   "metadata": {
    "colab_type": "text",
    "id": "rX8mhOLljYeM"
   },
   "source": [
    "."
   ]
  },
  {
   "cell_type": "markdown",
   "metadata": {
    "colab_type": "text",
    "id": "3wF5wszaj97Y"
   },
   "source": [
    "# E11-2 Deep Learning with TensorFlow 2 and Keras"
   ]
  },
  {
   "cell_type": "markdown",
   "metadata": {
    "colab_type": "text",
    "id": "04QgGZc9bF5D"
   },
   "source": [
    "Here the [MNIST dataset](http://yann.lecun.com/exdb/mnist/) classification task is solved by use of [Keras](https://www.tensorflow.org/guide/keras/overview) in the following steps:\n",
    "\n",
    "1. Build a neural network that classifies images.\n",
    "2. Train this neural network.\n",
    "3. And, finally, evaluate the accuracy of the model."
   ]
  },
  {
   "cell_type": "markdown",
   "metadata": {
    "colab_type": "text",
    "id": "nnrWf3PCEzXL"
   },
   "source": [
    "The solution require TensorFlow 2 and Keras installed in your environment.\n",
    "See the [install guide](https://www.tensorflow.org/install) for details."
   ]
  },
  {
   "cell_type": "code",
   "execution_count": 1,
   "metadata": {
    "colab": {},
    "colab_type": "code",
    "id": "0trJmd6DjqBZ"
   },
   "outputs": [],
   "source": [
    "import tensorflow as tf"
   ]
  },
  {
   "cell_type": "markdown",
   "metadata": {},
   "source": [
    "## Data Sets"
   ]
  },
  {
   "cell_type": "code",
   "execution_count": 3,
   "metadata": {
    "colab": {},
    "colab_type": "code",
    "id": "7FP5258xjs-v"
   },
   "outputs": [],
   "source": [
    "# Load and prepare the datasets with Keras\n",
    "mnist = tf.keras.datasets.mnist\n",
    "(x_train, y_train), (x_test, y_test) = mnist.load_data()"
   ]
  },
  {
   "cell_type": "code",
   "execution_count": 4,
   "metadata": {},
   "outputs": [],
   "source": [
    "# Normalize the integer numbers of grey color to floating-point numbers between 0 and 1\n",
    "x_train, x_test = x_train / 255.0, x_test / 255.0"
   ]
  },
  {
   "cell_type": "markdown",
   "metadata": {},
   "source": [
    "## Build ANN"
   ]
  },
  {
   "cell_type": "markdown",
   "metadata": {
    "colab_type": "text",
    "id": "BPZ68wASog_I"
   },
   "source": [
    "Build the `tf.keras.Sequential` model by stacking layers. <br>\n",
    "We choose one input, one output and two hidden layers."
   ]
  },
  {
   "cell_type": "code",
   "execution_count": 5,
   "metadata": {
    "colab": {},
    "colab_type": "code",
    "id": "h3IKyzTCDNGo"
   },
   "outputs": [],
   "source": [
    "# Create a model\n",
    "model = tf.keras.models.Sequential([\n",
    "  tf.keras.layers.Flatten(input_shape=(28, 28)),\n",
    "  tf.keras.layers.Dense(128, activation='relu'),\n",
    "  tf.keras.layers.Dropout(0.2),\n",
    "  tf.keras.layers.Dense(10)\n",
    "])"
   ]
  },
  {
   "cell_type": "markdown",
   "metadata": {
    "colab_type": "text",
    "id": "l2hiez2eIUz8"
   },
   "source": [
    "For each example the model returns a vector of \"[logits](https://developers.google.com/machine-learning/glossary#logits)\" or \"[log-odds](https://developers.google.com/machine-learning/glossary#log-odds)\" scores, one for each class.<br>\n",
    "\n",
    "__Logit__ is a vector of raw (non-normalized) predictions that a classification model generates, which is ordinarily then passed to a normalization function. If the model is solving a multi-class classification problem, logits typically become an input to the softmax function. The softmax function then generates a vector of (normalized) probabilities with one value for each possible class. __Log-odds__ serve the loss function."
   ]
  },
  {
   "cell_type": "code",
   "execution_count": 7,
   "metadata": {
    "colab": {},
    "colab_type": "code",
    "id": "OeOrNdnkEEcR",
    "scrolled": true
   },
   "outputs": [
    {
     "data": {
      "text/plain": [
       "array([[-0.54169554,  0.22656852,  0.41457993, -0.20984833, -0.24008794,\n",
       "         0.4404894 , -0.10653532,  0.48102096, -0.8223822 ,  0.1864722 ]],\n",
       "      dtype=float32)"
      ]
     },
     "execution_count": 7,
     "metadata": {},
     "output_type": "execute_result"
    }
   ],
   "source": [
    "predictions = model(x_train[:1]).numpy()\n",
    "predictions"
   ]
  },
  {
   "cell_type": "markdown",
   "metadata": {
    "colab_type": "text",
    "id": "tgjhDQGcIniO"
   },
   "source": [
    "The array predictions shows a logit for each of the ten possible outputs. The `tf.nn.softmax` function converts these logits to \"probabilities\" for each class. "
   ]
  },
  {
   "cell_type": "code",
   "execution_count": 8,
   "metadata": {
    "colab": {},
    "colab_type": "code",
    "id": "zWSRnQ0WI5eq"
   },
   "outputs": [
    {
     "data": {
      "text/plain": [
       "array([[0.05456621, 0.11764586, 0.1419806 , 0.07604019, 0.07377519,\n",
       "        0.14570731, 0.08431629, 0.15173437, 0.04121195, 0.11302201]],\n",
       "      dtype=float32)"
      ]
     },
     "execution_count": 8,
     "metadata": {},
     "output_type": "execute_result"
    }
   ],
   "source": [
    "# Calculate probability\n",
    "tf.nn.softmax(predictions).numpy()"
   ]
  },
  {
   "cell_type": "markdown",
   "metadata": {
    "colab_type": "text",
    "id": "he5u_okAYS4a"
   },
   "source": [
    "Note: It is possible to bake this `tf.nn.softmax` in as the activation function for the last layer of the network. While this can make the model output more directly interpretable, this approach is discouraged as it's impossible to\n",
    "provide an exact and numerically stable loss calculation for all models when using a softmax output. "
   ]
  },
  {
   "cell_type": "markdown",
   "metadata": {
    "colab_type": "text",
    "id": "hQyugpgRIyrA"
   },
   "source": [
    "The `losses.SparseCategoricalCrossentropy` loss takes a vector of logits and a `True` index and returns a scalar loss for each example."
   ]
  },
  {
   "cell_type": "code",
   "execution_count": 9,
   "metadata": {
    "colab": {},
    "colab_type": "code",
    "id": "RSkzdv8MD0tT"
   },
   "outputs": [],
   "source": [
    "#Loss function\n",
    "loss_fn = tf.keras.losses.SparseCategoricalCrossentropy(from_logits=True)"
   ]
  },
  {
   "cell_type": "markdown",
   "metadata": {
    "colab_type": "text",
    "id": "SfR4MsSDU880"
   },
   "source": [
    "This loss is equal to the negative log probability of the true class:\n",
    "It is zero if the model is sure of the correct class.\n",
    "This untrained model gives probabilities close to random (1/10 for each class), so the initial loss should be close to `-tf.log(1/10) ~= 2.3`."
   ]
  },
  {
   "cell_type": "code",
   "execution_count": 10,
   "metadata": {
    "colab": {},
    "colab_type": "code",
    "id": "NJWqEVrrJ7ZB"
   },
   "outputs": [
    {
     "data": {
      "text/plain": [
       "1.9261553"
      ]
     },
     "execution_count": 10,
     "metadata": {},
     "output_type": "execute_result"
    }
   ],
   "source": [
    "loss_fn(y_train[:1], predictions).numpy()"
   ]
  },
  {
   "cell_type": "code",
   "execution_count": 11,
   "metadata": {
    "colab": {},
    "colab_type": "code",
    "id": "9foNKHzTD2Vo"
   },
   "outputs": [],
   "source": [
    "# Build the model\n",
    "model.compile(optimizer='adam', loss=loss_fn, metrics=['accuracy'])"
   ]
  },
  {
   "cell_type": "markdown",
   "metadata": {
    "colab_type": "text",
    "id": "ix4mEL65on-w"
   },
   "source": [
    "The `Model.fit` method adjusts the model parameters to minimize the loss: "
   ]
  },
  {
   "cell_type": "code",
   "execution_count": 12,
   "metadata": {
    "colab": {},
    "colab_type": "code",
    "id": "y7suUbJXVLqP"
   },
   "outputs": [
    {
     "name": "stdout",
     "output_type": "stream",
     "text": [
      "Train on 60000 samples\n",
      "Epoch 1/20\n",
      "60000/60000 [==============================] - 6s 92us/sample - loss: 0.2948 - accuracy: 0.9141\n",
      "Epoch 2/20\n",
      "60000/60000 [==============================] - 5s 86us/sample - loss: 0.1462 - accuracy: 0.9567\n",
      "Epoch 3/20\n",
      "60000/60000 [==============================] - 5s 89us/sample - loss: 0.1089 - accuracy: 0.9668\n",
      "Epoch 4/20\n",
      "60000/60000 [==============================] - 5s 90us/sample - loss: 0.0899 - accuracy: 0.9723\n",
      "Epoch 5/20\n",
      "60000/60000 [==============================] - 6s 95us/sample - loss: 0.0776 - accuracy: 0.9754\n",
      "Epoch 6/20\n",
      "60000/60000 [==============================] - 6s 96us/sample - loss: 0.0672 - accuracy: 0.9785\n",
      "Epoch 7/20\n",
      "60000/60000 [==============================] - 6s 93us/sample - loss: 0.0600 - accuracy: 0.9803\n",
      "Epoch 8/20\n",
      "60000/60000 [==============================] - 6s 96us/sample - loss: 0.0534 - accuracy: 0.9829\n",
      "Epoch 9/20\n",
      "60000/60000 [==============================] - 6s 100us/sample - loss: 0.0490 - accuracy: 0.9841\n",
      "Epoch 10/20\n",
      "60000/60000 [==============================] - 6s 100us/sample - loss: 0.0457 - accuracy: 0.9848\n",
      "Epoch 11/20\n",
      "60000/60000 [==============================] - 6s 98us/sample - loss: 0.0416 - accuracy: 0.9865\n",
      "Epoch 12/20\n",
      "60000/60000 [==============================] - 6s 100us/sample - loss: 0.0402 - accuracy: 0.9866\n",
      "Epoch 13/20\n",
      "60000/60000 [==============================] - 6s 98us/sample - loss: 0.0370 - accuracy: 0.9875\n",
      "Epoch 14/20\n",
      "60000/60000 [==============================] - 6s 99us/sample - loss: 0.0343 - accuracy: 0.9882\n",
      "Epoch 15/20\n",
      "60000/60000 [==============================] - 6s 100us/sample - loss: 0.0329 - accuracy: 0.9887\n",
      "Epoch 16/20\n",
      "60000/60000 [==============================] - 6s 100us/sample - loss: 0.0320 - accuracy: 0.9894\n",
      "Epoch 17/20\n",
      "60000/60000 [==============================] - 6s 101us/sample - loss: 0.0288 - accuracy: 0.9899\n",
      "Epoch 18/20\n",
      "60000/60000 [==============================] - 6s 102us/sample - loss: 0.0291 - accuracy: 0.9892\n",
      "Epoch 19/20\n",
      "60000/60000 [==============================] - 6s 103us/sample - loss: 0.0280 - accuracy: 0.9906\n",
      "Epoch 20/20\n",
      "60000/60000 [==============================] - 6s 103us/sample - loss: 0.0257 - accuracy: 0.9914\n"
     ]
    },
    {
     "data": {
      "text/plain": [
       "<tensorflow.python.keras.callbacks.History at 0x7fce2ae2f3d0>"
      ]
     },
     "execution_count": 12,
     "metadata": {},
     "output_type": "execute_result"
    }
   ],
   "source": [
    "# Train the model\n",
    "model.fit(x_train, y_train, epochs=20)"
   ]
  },
  {
   "cell_type": "markdown",
   "metadata": {
    "colab_type": "text",
    "id": "4mDAAPFqVVgn"
   },
   "source": [
    "The `Model.evaluate` method checks the models performance."
   ]
  },
  {
   "cell_type": "code",
   "execution_count": 13,
   "metadata": {
    "colab": {},
    "colab_type": "code",
    "id": "F7dTAzgHDUh7"
   },
   "outputs": [
    {
     "name": "stdout",
     "output_type": "stream",
     "text": [
      "10000/1 - 1s - loss: 0.0431 - accuracy: 0.9796\n"
     ]
    },
    {
     "data": {
      "text/plain": [
       "[0.08614668145755931, 0.9796]"
      ]
     },
     "execution_count": 13,
     "metadata": {},
     "output_type": "execute_result"
    }
   ],
   "source": [
    "# Validate the accuracy\n",
    "model.evaluate(x_test,  y_test, verbose=2)"
   ]
  },
  {
   "cell_type": "markdown",
   "metadata": {
    "colab_type": "text",
    "id": "T4JfEh7kvx6m"
   },
   "source": [
    "The image classifier is now trained to ~98% accuracy on this dataset."
   ]
  },
  {
   "cell_type": "markdown",
   "metadata": {
    "colab_type": "text",
    "id": "Aj8NrlzlJqDG"
   },
   "source": [
    "If you want your model to return also a probability estimation, you can wrap the trained model, and attach the softmax to it."
   ]
  },
  {
   "cell_type": "code",
   "execution_count": 14,
   "metadata": {
    "colab": {},
    "colab_type": "code",
    "id": "rYb6DrEH0GMv"
   },
   "outputs": [],
   "source": [
    "probability_model = tf.keras.Sequential([model, tf.keras.layers.Softmax()])"
   ]
  },
  {
   "cell_type": "code",
   "execution_count": 15,
   "metadata": {
    "colab": {},
    "colab_type": "code",
    "id": "cnqOZtUp1YR_"
   },
   "outputs": [
    {
     "data": {
      "text/plain": [
       "<tf.Tensor: id=114433, shape=(5, 10), dtype=float32, numpy=\n",
       "array([[1.4965229e-16, 2.3063259e-14, 1.1908144e-10, 3.6451417e-09,\n",
       "        1.7619488e-17, 5.7447577e-14, 8.1771446e-19, 1.0000000e+00,\n",
       "        9.1487245e-13, 1.3524924e-10],\n",
       "       [2.2020433e-17, 4.7369336e-10, 1.0000000e+00, 8.6937998e-13,\n",
       "        5.5708088e-31, 8.6283731e-15, 7.2754353e-17, 2.4672047e-26,\n",
       "        2.1685915e-16, 5.4294788e-26],\n",
       "       [1.6744691e-11, 9.9999118e-01, 8.5327963e-07, 1.7860832e-12,\n",
       "        6.4013460e-07, 3.3877232e-08, 1.2655883e-08, 1.0709130e-06,\n",
       "        6.1745973e-06, 2.4548085e-12],\n",
       "       [1.0000000e+00, 1.1052904e-17, 2.5127034e-09, 3.0129411e-15,\n",
       "        2.1920003e-12, 2.8606840e-13, 2.7656666e-09, 5.2499971e-12,\n",
       "        4.4298791e-16, 1.5736802e-11],\n",
       "       [3.2348982e-12, 9.0754761e-15, 6.3672450e-09, 6.0184185e-15,\n",
       "        9.9924684e-01, 5.3711229e-13, 3.2400558e-11, 1.2167212e-07,\n",
       "        5.0461866e-12, 7.5307209e-04]], dtype=float32)>"
      ]
     },
     "execution_count": 15,
     "metadata": {},
     "output_type": "execute_result"
    }
   ],
   "source": [
    "probability_model(x_test[:5])"
   ]
  },
  {
   "cell_type": "code",
   "execution_count": null,
   "metadata": {},
   "outputs": [],
   "source": []
  },
  {
   "cell_type": "markdown",
   "metadata": {},
   "source": [
    "## Referrence\n",
    "The TensorFlow Authors"
   ]
  }
 ],
 "metadata": {
  "colab": {
   "collapsed_sections": [
    "rX8mhOLljYeM"
   ],
   "name": "beginner.ipynb",
   "private_outputs": true,
   "provenance": [],
   "toc_visible": true
  },
  "kernelspec": {
   "display_name": "Python 3",
   "language": "python",
   "name": "python3"
  },
  "language_info": {
   "codemirror_mode": {
    "name": "ipython",
    "version": 3
   },
   "file_extension": ".py",
   "mimetype": "text/x-python",
   "name": "python",
   "nbconvert_exporter": "python",
   "pygments_lexer": "ipython3",
   "version": "3.7.7"
  }
 },
 "nbformat": 4,
 "nbformat_minor": 1
}
