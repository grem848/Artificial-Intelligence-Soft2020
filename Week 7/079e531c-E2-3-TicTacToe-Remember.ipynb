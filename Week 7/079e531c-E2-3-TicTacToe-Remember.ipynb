{
 "cells": [
  {
   "cell_type": "markdown",
   "metadata": {},
   "source": [
    "# E2-3 Tic Tac Toe Remember"
   ]
  },
  {
   "cell_type": "markdown",
   "metadata": {},
   "source": [
    "This is a game, in which AI plays wiser: first it checks if there is a winning move and takes that one, otherwise picks a random one."
   ]
  },
  {
   "cell_type": "markdown",
   "metadata": {},
   "source": [
    "## Initialization"
   ]
  },
  {
   "cell_type": "code",
   "execution_count": 1,
   "metadata": {},
   "outputs": [],
   "source": [
    "# Initialize the players and signs\n",
    "EMPTY = '.'\n",
    "AI = 'X'\n",
    "HUMAN = 'O'"
   ]
  },
  {
   "cell_type": "code",
   "execution_count": 2,
   "metadata": {},
   "outputs": [],
   "source": [
    "# print the board, leave an empty lines and spaces for visibility\n",
    "def print_board(board):\n",
    "    print(\" \")\n",
    "    print(' '.join(board[:3]))\n",
    "    print(' '.join(board[3:6]))\n",
    "    print(' '.join(board[6:]))\n",
    "    print(\" \")"
   ]
  },
  {
   "cell_type": "code",
   "execution_count": 3,
   "metadata": {},
   "outputs": [
    {
     "name": "stdout",
     "output_type": "stream",
     "text": [
      " \n",
      ". . .\n",
      ". . .\n",
      ". . .\n",
      " \n"
     ]
    }
   ],
   "source": [
    "# Initialize the board\n",
    "board = EMPTY * 9\n",
    "print_board(board)"
   ]
  },
  {
   "cell_type": "code",
   "execution_count": 4,
   "metadata": {},
   "outputs": [],
   "source": [
    "# All possible winning combinations\n",
    "win_cases = [\n",
    "    [0, 1, 2],\n",
    "    [3, 4, 5],\n",
    "    [6, 7, 8],\n",
    "    [0, 3, 6],\n",
    "    [1, 4, 7],\n",
    "    [2, 5, 8],\n",
    "    [0, 4, 8],\n",
    "    [2, 4, 6]\n",
    "]"
   ]
  },
  {
   "cell_type": "markdown",
   "metadata": {},
   "source": [
    "##  Supporting Functions"
   ]
  },
  {
   "cell_type": "markdown",
   "metadata": {},
   "source": [
    "#### New all_possible_moves()\n",
    "AI is interested in winning options"
   ]
  },
  {
   "cell_type": "code",
   "execution_count": 5,
   "metadata": {},
   "outputs": [],
   "source": [
    "# Get all available moves on the board from this position into new_board,\n",
    "# check additionally, if there is one of them, which would enable AI to win immediately\n",
    "def all_possible_moves(board, sign):\n",
    "    # start with empty list\n",
    "    move_list = []\n",
    "    # travers the board, i-index, v-sign\n",
    "    for i, v in enumerate(board):\n",
    "        if v == EMPTY:\n",
    "            # new line\n",
    "            new_board = board[:i] + sign + board[i+1:]\n",
    "            move_list.append(new_board)\n",
    "            # new check\n",
    "            if game_won_by(new_board) == AI:\n",
    "                # test\n",
    "                # print(new_board)\n",
    "                return [new_board]\n",
    "    return move_list"
   ]
  },
  {
   "cell_type": "code",
   "execution_count": 6,
   "metadata": {},
   "outputs": [],
   "source": [
    "# A winning game is if any of win-cases occurs\n",
    "def game_won_by(board):\n",
    "    for i in win_cases:\n",
    "        if board[i[0]] == board[i[1]] == board[i[2]] != EMPTY:\n",
    "            # win-case, return the sign, which wins\n",
    "            return board[i[0]]\n",
    "    return EMPTY"
   ]
  },
  {
   "cell_type": "markdown",
   "metadata": {},
   "source": [
    "## Play The Game"
   ]
  },
  {
   "cell_type": "markdown",
   "metadata": {},
   "source": [
    "### Game Moves"
   ]
  },
  {
   "cell_type": "markdown",
   "metadata": {},
   "source": [
    "#### Human move"
   ]
  },
  {
   "cell_type": "code",
   "execution_count": 7,
   "metadata": {},
   "outputs": [],
   "source": [
    "# Human move approach still the same\n",
    "def human_move(board, row, column):\n",
    "    # get the index of the cell the user selected: 2D -> 1D \n",
    "    index = 3 * (row - 1) + (column - 1)\n",
    "    #  if this cell is empty, make the user move, otherwise do nothing\n",
    "    if board[index] == EMPTY:\n",
    "        # place HUMAN sign on board[index]\n",
    "        return board[:index] + HUMAN + board[index+1:]\n",
    "    return board"
   ]
  },
  {
   "cell_type": "markdown",
   "metadata": {},
   "source": [
    "#### AI move: New ai_move() - AI gets wiser"
   ]
  },
  {
   "cell_type": "code",
   "execution_count": 8,
   "metadata": {},
   "outputs": [],
   "source": [
    "# AI makes the next move from those, which will enable immediate winning\n",
    "from random import choice\n",
    "def ai_move(board):\n",
    "    options = all_possible_moves(board, AI)\n",
    "    for option in options:\n",
    "        if game_won_by(option) == AI:\n",
    "            return option\n",
    "    return choice(options)"
   ]
  },
  {
   "cell_type": "code",
   "execution_count": 9,
   "metadata": {},
   "outputs": [],
   "source": [
    "# Play the game\n",
    "def game():\n",
    "    # start from empty board\n",
    "    board = EMPTY * 9\n",
    "    empty_cell_count = 9\n",
    "    end_flag = False\n",
    "    \n",
    "    while empty_cell_count > 0 and not end_flag:        \n",
    "        # Player AI (always odd number of options)\n",
    "        if empty_cell_count % 2 == 1:\n",
    "            board = ai_move(board)\n",
    "        else:\n",
    "            # Player HUMAN (always has even number of options)        \n",
    "            # ask the player to chose a move\n",
    "            row = int(input('Enter row: '))\n",
    "            col = int(input('Enter column: '))\n",
    "            board = human_move(board, row, col)\n",
    "            \n",
    "        # Print current board status    \n",
    "        print_board(board)\n",
    "        \n",
    "        # Check if someone wins already, update the flag\n",
    "        end_flag = game_won_by(board) != EMPTY\n",
    "        \n",
    "        # Count how many empty cells left\n",
    "        empty_cell_count = board.count(EMPTY)      \n",
    "        # empty_cell_count = sum(1 for cell in board if cell == EMPTY_SIGN)\n",
    "     \n",
    "    print('Game ended. Winner: ', game_won_by(board))"
   ]
  },
  {
   "cell_type": "code",
   "execution_count": 10,
   "metadata": {},
   "outputs": [
    {
     "name": "stdout",
     "output_type": "stream",
     "text": [
      " \n",
      ". . .\n",
      ". . .\n",
      "X . .\n",
      " \n",
      "Enter row: 1\n",
      "Enter column: 1\n",
      " \n",
      "O . .\n",
      ". . .\n",
      "X . .\n",
      " \n",
      " \n",
      "O . .\n",
      ". . .\n",
      "X . X\n",
      " \n",
      "Enter row: 2\n",
      "Enter column: 2\n",
      " \n",
      "O . .\n",
      ". O .\n",
      "X . X\n",
      " \n",
      " \n",
      "O . .\n",
      ". O .\n",
      "X X X\n",
      " \n",
      "Game ended. Winner:  X\n"
     ]
    }
   ],
   "source": [
    "# Run the game\n",
    "game()"
   ]
  },
  {
   "cell_type": "markdown",
   "metadata": {},
   "source": [
    "## Game Analysis"
   ]
  },
  {
   "cell_type": "markdown",
   "metadata": {},
   "source": [
    "We want to know how many are the possible combinations of moves and how many times each player can win the game."
   ]
  },
  {
   "cell_type": "code",
   "execution_count": 11,
   "metadata": {},
   "outputs": [],
   "source": [
    "# all moves for all possible states for this player\n",
    "def all_moves(board_list, sign):\n",
    "    move_list = []\n",
    "    for board in board_list:\n",
    "        move_list.extend(all_possible_moves(board, sign))\n",
    "    return move_list"
   ]
  },
  {
   "cell_type": "code",
   "execution_count": 12,
   "metadata": {},
   "outputs": [],
   "source": [
    "# All wins of each player separated in two new lists, draws remains in the old list\n",
    "def player_wins(move_list, ai_wins, human_wins):\n",
    "    for board in move_list:\n",
    "        won_by = game_won_by(board)\n",
    "        if won_by == AI:\n",
    "            ai_wins.append(board)\n",
    "            move_list.remove(board)\n",
    "        elif won_by == HUMAN:\n",
    "            human_wins.append(board)\n",
    "            move_list.remove(board)"
   ]
  },
  {
   "cell_type": "code",
   "execution_count": 13,
   "metadata": {},
   "outputs": [],
   "source": [
    "# At each step count the available moves\n",
    "def count_possibilities():\n",
    "    board = EMPTY * 9\n",
    "    move_list = [board]\n",
    "    ai_wins = []\n",
    "    human_wins = []\n",
    "    for i in range(9):\n",
    "        print('Step ' + str(i) + ': possible moves = ' + str(len(move_list)))\n",
    "        sign = AI if i % 2 == 0 else HUMAN\n",
    "        move_list = all_moves(move_list, sign)\n",
    "        player_wins(move_list, ai_wins, human_wins)\n",
    "    print('First player wins: ' + str(len(ai_wins)))\n",
    "    print('Second player wins: ' + str(len(human_wins)))\n",
    "    print('Draw', str(len(move_list)))\n",
    "    print('Total', str(len(ai_wins) + len(human_wins) + len(move_list)))"
   ]
  },
  {
   "cell_type": "code",
   "execution_count": 14,
   "metadata": {},
   "outputs": [
    {
     "name": "stdout",
     "output_type": "stream",
     "text": [
      "Step 0: possible moves = 1\n",
      "Step 1: possible moves = 9\n",
      "Step 2: possible moves = 72\n",
      "Step 3: possible moves = 504\n",
      "Step 4: possible moves = 3024\n",
      "Step 5: possible moves = 8525\n",
      "Step 6: possible moves = 28612\n",
      "Step 7: possible moves = 42187\n",
      "Step 8: possible moves = 55888\n",
      "First player wins: 32395\n",
      "Second player wins: 23445\n",
      "Draw 35544\n",
      "Total 91384\n"
     ]
    }
   ],
   "source": [
    "count_possibilities()"
   ]
  },
  {
   "cell_type": "code",
   "execution_count": null,
   "metadata": {},
   "outputs": [],
   "source": []
  }
 ],
 "metadata": {
  "kernelspec": {
   "display_name": "Python 3",
   "language": "python",
   "name": "python3"
  },
  "language_info": {
   "codemirror_mode": {
    "name": "ipython",
    "version": 3
   },
   "file_extension": ".py",
   "mimetype": "text/x-python",
   "name": "python",
   "nbconvert_exporter": "python",
   "pygments_lexer": "ipython3",
   "version": "3.7.6"
  }
 },
 "nbformat": 4,
 "nbformat_minor": 2
}
